{
 "cells": [
  {
   "cell_type": "markdown",
   "id": "b0cd53dd-78a5-46f7-9fe8-de943595813d",
   "metadata": {},
   "source": [
    "# Export Segmentation Masks\n",
    "> How to save the outputs of your model to disk\n",
    "\n",
    "- toc: true \n",
    "- badges: true\n",
    "- comments: true\n",
    "- categories: [Pytorch, fastai, cv]\n",
    "- author: Thomas Capelle\n",
    "- image: images/seg.png"
   ]
  },
  {
   "cell_type": "markdown",
   "id": "974aaf39-40a4-4184-b81e-7790ca6db607",
   "metadata": {},
   "source": [
    "![Segmentation](../images/seg.png)"
   ]
  },
  {
   "cell_type": "markdown",
   "id": "e0563075-74b3-43fa-87c9-f17a379246bd",
   "metadata": {},
   "source": [
    "You already have a trained model and want to run inference over a large dataset of images (in my case over 3kk images), how to do this efficiently and fast. We already have access to `fastai`'s `Learner.get_preds` method, but you need to be able to fit  in memory the full output, for my use case of segmentation masks over large images it is just not possible.\n",
    "Let's build a solution to save the prediction to file using a dataloader to make inference fast and batched."
   ]
  },
  {
   "cell_type": "code",
   "execution_count": 1,
   "id": "1d858143-f3ae-4c9f-a246-5ea1a4f8acd4",
   "metadata": {},
   "outputs": [],
   "source": [
    "from fastai.vision.all import *"
   ]
  },
  {
   "cell_type": "code",
   "execution_count": 23,
   "id": "4ff2b6e2-36ce-45c2-a740-88e373a2008d",
   "metadata": {},
   "outputs": [],
   "source": [
    "#hide\n",
    "image_size = 256\n",
    "\n",
    "site = 'Z_Tenesol'\n",
    "zone = f'Zone_Salvagny_Tenesol_{image_size}'\n",
    "DATA = Path('/DATA')/zone\n",
    "\n",
    "WSISEG_STATS = [0.3114, 0.3166, 0.3946],[0.2587, 0.2598, 0.2958]"
   ]
  },
  {
   "cell_type": "code",
   "execution_count": 11,
   "id": "a886c3a9-1f11-42bb-81ba-b49f6dcb1e5f",
   "metadata": {},
   "outputs": [],
   "source": [
    "def is_gpu(dev=0):\n",
    "    if torch.cuda.is_available():\n",
    "        torch.cuda.set_device(dev)\n",
    "        print(torch.cuda.get_device_name(dev))"
   ]
  },
  {
   "cell_type": "code",
   "execution_count": 12,
   "id": "5844ea3f-dfa8-4c9e-8f4a-59e87638e335",
   "metadata": {},
   "outputs": [
    {
     "name": "stdout",
     "output_type": "stream",
     "text": [
      "Quadro RTX 8000\n"
     ]
    }
   ],
   "source": [
    "is_gpu()"
   ]
  },
  {
   "cell_type": "markdown",
   "id": "a4fdfc64-e4dc-4a6e-ad71-24d520945ee9",
   "metadata": {},
   "source": [
    "we already have a model that is working good, for the sake of simplicity I am loading a `torchscript` model from file."
   ]
  },
  {
   "cell_type": "code",
   "execution_count": 15,
   "id": "d84202e0-d973-44f3-8316-8a0aeabc184e",
   "metadata": {},
   "outputs": [],
   "source": [
    "#hide\n",
    "PATH = Path.home()/'SteadySun/suneye_dl_models/'"
   ]
  },
  {
   "cell_type": "code",
   "execution_count": 16,
   "id": "8e13d9c8-9515-43a2-8950-3e504d000cb9",
   "metadata": {},
   "outputs": [],
   "source": [
    "model = torch.jit.load(PATH/'model_checkpoints/unet_small_stage1.jit').cuda()"
   ]
  },
  {
   "cell_type": "code",
   "execution_count": 17,
   "id": "db5ac45f-54c5-4629-8a81-939ca36e63ae",
   "metadata": {},
   "outputs": [],
   "source": [
    "#hide\n",
    "if not (DATA/'steadyeye_IA_database.hdf').exists():\n",
    "    from steadyeye_dl.train import read_df\n",
    "    df = read_df(DATA/'steadyeye_IA_database.csv', DATA, site='Z_Tenesol')\n",
    "    df.to_hdf(DATA/'steadyeye_IA_database.hdf', key='df')\n",
    "else:\n",
    "    df = pd.read_hdf(DATA/'steadyeye_IA_database.hdf')"
   ]
  },
  {
   "cell_type": "markdown",
   "id": "638d9abe-3de2-445b-925c-c8de98f45668",
   "metadata": {},
   "source": [
    "we have a dataframe with our data"
   ]
  },
  {
   "cell_type": "code",
   "execution_count": 18,
   "id": "5180fae5-3f62-4367-af81-51ca585ab7dd",
   "metadata": {},
   "outputs": [
    {
     "data": {
      "text/html": [
       "<div>\n",
       "<style scoped>\n",
       "    .dataframe tbody tr th:only-of-type {\n",
       "        vertical-align: middle;\n",
       "    }\n",
       "\n",
       "    .dataframe tbody tr th {\n",
       "        vertical-align: top;\n",
       "    }\n",
       "\n",
       "    .dataframe thead th {\n",
       "        text-align: right;\n",
       "    }\n",
       "</style>\n",
       "<table border=\"1\" class=\"dataframe\">\n",
       "  <thead>\n",
       "    <tr style=\"text-align: right;\">\n",
       "      <th></th>\n",
       "      <th>group</th>\n",
       "      <th>image_path</th>\n",
       "      <th>elevation</th>\n",
       "      <th>azimuth</th>\n",
       "      <th>ghi_cs</th>\n",
       "      <th>kt</th>\n",
       "      <th>ghi</th>\n",
       "    </tr>\n",
       "    <tr>\n",
       "      <th>utc</th>\n",
       "      <th></th>\n",
       "      <th></th>\n",
       "      <th></th>\n",
       "      <th></th>\n",
       "      <th></th>\n",
       "      <th></th>\n",
       "      <th></th>\n",
       "    </tr>\n",
       "  </thead>\n",
       "  <tbody>\n",
       "    <tr>\n",
       "      <th>2019-01-08 10:04:16.970</th>\n",
       "      <td>0</td>\n",
       "      <td>/DATA/Zone_Salvagny_Tenesol_256/Z_Tenesol/camera_01/2019-01-08/image19-01-08_10-04-16-97.png</td>\n",
       "      <td>18.020898</td>\n",
       "      <td>1412.8</td>\n",
       "      <td>277.376311</td>\n",
       "      <td>0.181790</td>\n",
       "      <td>50.426096</td>\n",
       "    </tr>\n",
       "    <tr>\n",
       "      <th>2019-01-08 10:18:17.000</th>\n",
       "      <td>1</td>\n",
       "      <td>/DATA/Zone_Salvagny_Tenesol_256/Z_Tenesol/camera_01/2019-01-08/image19-01-08_10-18-17-00.png</td>\n",
       "      <td>18.975492</td>\n",
       "      <td>1412.8</td>\n",
       "      <td>295.647541</td>\n",
       "      <td>0.185127</td>\n",
       "      <td>54.741370</td>\n",
       "    </tr>\n",
       "    <tr>\n",
       "      <th>2019-01-08 10:19:16.980</th>\n",
       "      <td>1</td>\n",
       "      <td>/DATA/Zone_Salvagny_Tenesol_256/Z_Tenesol/camera_01/2019-01-08/image19-01-08_10-19-16-98.png</td>\n",
       "      <td>19.038769</td>\n",
       "      <td>1412.8</td>\n",
       "      <td>296.875387</td>\n",
       "      <td>0.177907</td>\n",
       "      <td>52.806228</td>\n",
       "    </tr>\n",
       "    <tr>\n",
       "      <th>2019-01-08 10:41:16.960</th>\n",
       "      <td>2</td>\n",
       "      <td>/DATA/Zone_Salvagny_Tenesol_256/Z_Tenesol/camera_01/2019-01-08/image19-01-08_10-41-16-96.png</td>\n",
       "      <td>20.297296</td>\n",
       "      <td>1412.8</td>\n",
       "      <td>321.138689</td>\n",
       "      <td>0.177493</td>\n",
       "      <td>57.007973</td>\n",
       "    </tr>\n",
       "    <tr>\n",
       "      <th>2019-01-08 10:42:16.950</th>\n",
       "      <td>2</td>\n",
       "      <td>/DATA/Zone_Salvagny_Tenesol_256/Z_Tenesol/camera_01/2019-01-08/image19-01-08_10-42-16-95.png</td>\n",
       "      <td>20.344993</td>\n",
       "      <td>1412.8</td>\n",
       "      <td>322.050887</td>\n",
       "      <td>0.194303</td>\n",
       "      <td>62.576990</td>\n",
       "    </tr>\n",
       "  </tbody>\n",
       "</table>\n",
       "</div>"
      ],
      "text/plain": [
       "                         group  \\\n",
       "utc                              \n",
       "2019-01-08 10:04:16.970      0   \n",
       "2019-01-08 10:18:17.000      1   \n",
       "2019-01-08 10:19:16.980      1   \n",
       "2019-01-08 10:41:16.960      2   \n",
       "2019-01-08 10:42:16.950      2   \n",
       "\n",
       "                                                                                                           image_path  \\\n",
       "utc                                                                                                                     \n",
       "2019-01-08 10:04:16.970  /DATA/Zone_Salvagny_Tenesol_256/Z_Tenesol/camera_01/2019-01-08/image19-01-08_10-04-16-97.png   \n",
       "2019-01-08 10:18:17.000  /DATA/Zone_Salvagny_Tenesol_256/Z_Tenesol/camera_01/2019-01-08/image19-01-08_10-18-17-00.png   \n",
       "2019-01-08 10:19:16.980  /DATA/Zone_Salvagny_Tenesol_256/Z_Tenesol/camera_01/2019-01-08/image19-01-08_10-19-16-98.png   \n",
       "2019-01-08 10:41:16.960  /DATA/Zone_Salvagny_Tenesol_256/Z_Tenesol/camera_01/2019-01-08/image19-01-08_10-41-16-96.png   \n",
       "2019-01-08 10:42:16.950  /DATA/Zone_Salvagny_Tenesol_256/Z_Tenesol/camera_01/2019-01-08/image19-01-08_10-42-16-95.png   \n",
       "\n",
       "                         elevation  azimuth      ghi_cs        kt        ghi  \n",
       "utc                                                                           \n",
       "2019-01-08 10:04:16.970  18.020898   1412.8  277.376311  0.181790  50.426096  \n",
       "2019-01-08 10:18:17.000  18.975492   1412.8  295.647541  0.185127  54.741370  \n",
       "2019-01-08 10:19:16.980  19.038769   1412.8  296.875387  0.177907  52.806228  \n",
       "2019-01-08 10:41:16.960  20.297296   1412.8  321.138689  0.177493  57.007973  \n",
       "2019-01-08 10:42:16.950  20.344993   1412.8  322.050887  0.194303  62.576990  "
      ]
     },
     "execution_count": 18,
     "metadata": {},
     "output_type": "execute_result"
    }
   ],
   "source": [
    "df.head()"
   ]
  },
  {
   "cell_type": "markdown",
   "id": "43b3fe3c-df9f-48db-b031-e7a4f760fbe9",
   "metadata": {},
   "source": [
    "## Inference on one image at a time"
   ]
  },
  {
   "cell_type": "markdown",
   "id": "2cf7560a-d82c-4d1e-893f-daf2718537db",
   "metadata": {},
   "source": [
    "let's grab one image:"
   ]
  },
  {
   "cell_type": "code",
   "execution_count": 21,
   "id": "2ca76413-f2f7-4b2e-9203-79f88593fad8",
   "metadata": {},
   "outputs": [
    {
     "data": {
      "image/png": "[encoded data removed]",
      "text/plain": [
       "<PIL.Image.Image image mode=RGB size=256x192 at 0x7FF32B85BF40>"
      ]
     },
     "execution_count": 21,
     "metadata": {},
     "output_type": "execute_result"
    }
   ],
   "source": [
    "img_path = df.image_path.sample(1).item()\n",
    "pil_img = load_image(img_path)\n",
    "pil_img"
   ]
  },
  {
   "cell_type": "markdown",
   "id": "69ea32f2-0440-4054-b975-bc13ba24ebb1",
   "metadata": {},
   "source": [
    "We will use fastai transforms, but the same can be done using `torchvision.transforms`, \n",
    "```python\n",
    "import torchvision.transforms as T\n",
    "img_tfms = T.Compose([T.ToTensor(),\n",
    "                      T.Normalize(*WSISEG_STATS)])\n",
    "```"
   ]
  },
  {
   "cell_type": "code",
   "execution_count": 24,
   "id": "e257b6af-7b84-4116-85a9-baf0af9c42db",
   "metadata": {},
   "outputs": [],
   "source": [
    "tfms = Pipeline([PILImage.create, \n",
    "                 ToTensor(), \n",
    "                 IntToFloatTensor(), \n",
    "                 Normalize.from_stats(*WSISEG_STATS, cuda=False)])"
   ]
  },
  {
   "cell_type": "markdown",
   "id": "6b98a075-29a9-4d72-b0d8-76795a73d608",
   "metadata": {},
   "source": [
    "these transforms will convert the image to tensor, so we can pass it through the model"
   ]
  },
  {
   "cell_type": "code",
   "execution_count": 25,
   "id": "e8efa9e3-21fd-4465-9904-8cfd8269a69a",
   "metadata": {},
   "outputs": [],
   "source": [
    "tensor_img = tfms(img_path)"
   ]
  },
  {
   "cell_type": "markdown",
   "id": "677d0e47-f062-4ef5-93f8-598ae47c014c",
   "metadata": {},
   "source": [
    "into the model"
   ]
  },
  {
   "cell_type": "code",
   "execution_count": 26,
   "id": "64c0e29b-bd03-49ee-a221-ae84c79921cd",
   "metadata": {},
   "outputs": [
    {
     "data": {
      "text/plain": [
       "torch.Size([1, 4, 192, 256])"
      ]
     },
     "execution_count": 26,
     "metadata": {},
     "output_type": "execute_result"
    }
   ],
   "source": [
    "raw_out = model(tensor_img.cuda())\n",
    "raw_out.shape"
   ]
  },
  {
   "cell_type": "markdown",
   "id": "0a6d60e7-c1c3-474a-a51d-d4dba87b6070",
   "metadata": {},
   "source": [
    "this is a segmentation model with 4 classes, so the output has 4 channels. We need to postprocess this to get a 1 channel `uint8` image with values in [0,1,2,3]. We will also reconvert this output to `PIL` to save it later."
   ]
  },
  {
   "cell_type": "code",
   "execution_count": 27,
   "id": "666d156d-0524-4745-b38c-9c3b753af451",
   "metadata": {},
   "outputs": [],
   "source": [
    "def postprocess(out):\n",
    "    \"Transform the output of the model to a uint8 mask\"\n",
    "    return PILMask.create(out.squeeze(0).argmax(0).cpu().numpy().astype(np.uint8))"
   ]
  },
  {
   "cell_type": "markdown",
   "id": "fd784fa8-1fca-48eb-b2d0-763027d22181",
   "metadata": {},
   "source": [
    "it looks fine"
   ]
  },
  {
   "cell_type": "code",
   "execution_count": 28,
   "id": "186eda5f-0a6f-4c5b-969d-c08bf7e7ca1a",
   "metadata": {},
   "outputs": [
    {
     "data": {
      "image/png": "[encoded data removed]",
      "text/plain": [
       "<Figure size 432x216 with 2 Axes>"
      ]
     },
     "metadata": {
      "needs_background": "light"
     },
     "output_type": "display_data"
    }
   ],
   "source": [
    "show_images([pil_img, postprocess(raw_out)])"
   ]
  },
  {
   "cell_type": "markdown",
   "id": "91cb6596-c657-4d87-a95c-be015eaf9e35",
   "metadata": {},
   "source": [
    "Now, if we want to compute this process on all images (it is going to be slow...) let's do some refactor:"
   ]
  },
  {
   "cell_type": "code",
   "execution_count": 29,
   "id": "bf1240d6-520e-414b-8a39-1f748e526893",
   "metadata": {},
   "outputs": [],
   "source": [
    "def predict_one(img_path):\n",
    "    \"evaluate `img_path` into model\"\n",
    "    tensor_img = tfms(img_path)\n",
    "    with torch.no_grad():\n",
    "        raw_out = model(tensor_img.cuda())\n",
    "    return postprocess(raw_out)"
   ]
  },
  {
   "cell_type": "code",
   "execution_count": 30,
   "id": "89ef3a4e-3b97-42f3-bea8-1446fd7ccd56",
   "metadata": {},
   "outputs": [
    {
     "data": {
      "text/plain": [
       "<AxesSubplot:>"
      ]
     },
     "execution_count": 30,
     "metadata": {},
     "output_type": "execute_result"
    },
    {
     "data": {
      "image/png": "[encoded data removed]",
      "text/plain": [
       "<Figure size 360x360 with 1 Axes>"
      ]
     },
     "metadata": {
      "needs_background": "light"
     },
     "output_type": "display_data"
    }
   ],
   "source": [
    "mask = predict_one(img_path)\n",
    "mask.show()"
   ]
  },
  {
   "cell_type": "markdown",
   "id": "02fca6e9-bbb4-4c72-b4c6-8fc0844369a8",
   "metadata": {},
   "source": [
    "We now want to save this image besides the original one. Let's leverage some `fastcore`'s magic and patch `pathlib.Path` to be able to put an arbitrary suffix on our images:\n",
    "> Note: `Path.with_suffix` cannot put an arbitrary suffig with the `_GT` string before the extension"
   ]
  },
  {
   "cell_type": "code",
   "execution_count": 31,
   "id": "7ec7129d-2eed-4c47-99e6-0456af8f6242",
   "metadata": {},
   "outputs": [],
   "source": [
    "@patch\n",
    "def my_suffix(self:Path, suffix=''):\n",
    "    \"replace the everything after the dot (including the dot) with `suffix`\"\n",
    "    path = self.with_suffix('')\n",
    "    return path.parent/f'{path.name}{suffix}'"
   ]
  },
  {
   "cell_type": "markdown",
   "id": "df9b3f03-c961-43f2-ba48-0a19947945d8",
   "metadata": {},
   "source": [
    "this way, our masks will be called `*_GT.png`"
   ]
  },
  {
   "cell_type": "code",
   "execution_count": 32,
   "id": "c607e2a4-ad6f-4fbf-960f-62bc62edb1c2",
   "metadata": {},
   "outputs": [
    {
     "data": {
      "text/plain": [
       "(Path('/DATA/Zone_Salvagny_Tenesol_256/Z_Tenesol/camera_01/2019-10-24/image19-10-24_09-45-02-04.png'),\n",
       " Path('/DATA/Zone_Salvagny_Tenesol_256/Z_Tenesol/camera_01/2019-10-24/image19-10-24_09-45-02-04_GT.png'))"
      ]
     },
     "execution_count": 32,
     "metadata": {},
     "output_type": "execute_result"
    }
   ],
   "source": [
    "img_path, img_path.my_suffix('_GT.png')"
   ]
  },
  {
   "cell_type": "markdown",
   "id": "5d5173ff-28fa-4bd7-a95b-32cd5af931b8",
   "metadata": {},
   "source": [
    "To process the full dataset one would do this:\n",
    "- iterate over all images one by one\n",
    "- compute inference on each\n",
    "- save the postprocessed mask"
   ]
  },
  {
   "cell_type": "code",
   "execution_count": null,
   "id": "39585b9b-94a1-45f2-9310-51eeaa960ba1",
   "metadata": {},
   "outputs": [],
   "source": [
    "for img_path in progress_bar(df.image_path.to_list()):\n",
    "    mask = predict_one(img_path)\n",
    "    mask.save(img_path.my_suffix('_GT.png'))"
   ]
  },
  {
   "cell_type": "markdown",
   "id": "f806dcae-e68d-45fd-bd50-a5ecce0c2734",
   "metadata": {},
   "source": [
    "## Batched images to files\n",
    "> From DataLoader to files\n",
    "\n",
    "Let's try to make better use of the GPU, we will feed batches of images all at once. We already have `DataLoaders` to do this, let's make a simple `TfmdDL` object, to stack our items with the transforms together. Here we need to split the transforms on the ones that are called after getting the item (the image path) and after stacking the tensors into a batch. The latter ones are computer on the GPU."
   ]
  },
  {
   "cell_type": "code",
   "execution_count": 34,
   "id": "1ba4577e-a0a7-4c21-a068-a9815c345dff",
   "metadata": {},
   "outputs": [],
   "source": [
    "files = df.image_path.to_list()\n",
    "dl = TfmdDL(files, \n",
    "            bs=64, \n",
    "            after_item=[PILImage.create, ToTensor()], \n",
    "            after_batch=[IntToFloatTensor, Normalize.from_stats(*WSISEG_STATS)], \n",
    "            device='cuda:0')"
   ]
  },
  {
   "cell_type": "markdown",
   "id": "9d39ab4a-efa2-4b6f-96ea-d35a12186fe5",
   "metadata": {},
   "source": [
    "we get a nice batch of images (64 in this case) ready to feed the model"
   ]
  },
  {
   "cell_type": "code",
   "execution_count": 36,
   "id": "6340ee42-40c0-4ebe-8e3b-716399d56c81",
   "metadata": {},
   "outputs": [
    {
     "data": {
      "text/plain": [
       "torch.Size([64, 3, 192, 256])"
      ]
     },
     "execution_count": 36,
     "metadata": {},
     "output_type": "execute_result"
    }
   ],
   "source": [
    "b = next(iter(dl))\n",
    "b.shape"
   ]
  },
  {
   "cell_type": "code",
   "execution_count": 37,
   "id": "6c793c7b-8072-47b3-9a28-8ab021a9244b",
   "metadata": {},
   "outputs": [
    {
     "data": {
      "text/plain": [
       "torch.Size([64, 4, 192, 256])"
      ]
     },
     "execution_count": 37,
     "metadata": {},
     "output_type": "execute_result"
    }
   ],
   "source": [
    "model(b).shape"
   ]
  },
  {
   "cell_type": "markdown",
   "id": "e18e93e3-ae28-42a6-b983-3c43a5f1eac3",
   "metadata": {},
   "source": [
    "Here we have performed inference on 64 images all at once, but the posprocessing need to happen imager per image anyway.\n",
    "We have recover the original images filenames to be able to store the masks and make the maping with the original image. We kind of need a DataLoader for the filenames, here comes `chunked` function to the recue.\n",
    "> Note: `chunked` splits the files on chunks of `bs` so we can iterate at the same time on the image paths."
   ]
  },
  {
   "cell_type": "code",
   "execution_count": 38,
   "id": "3ab17f57-a4cc-4208-be9d-4fa04afff638",
   "metadata": {},
   "outputs": [],
   "source": [
    "fnames_bs = chunked(files, chunk_sz=64)"
   ]
  },
  {
   "cell_type": "markdown",
   "id": "f3ea40ff-2aa0-4d1f-a2d1-6bf1a4326bc3",
   "metadata": {},
   "source": [
    "In my case, this solution is 10 times faster than doing the images one by one."
   ]
  },
  {
   "cell_type": "code",
   "execution_count": null,
   "id": "956b412a-ada2-4f1d-b204-5173242f23eb",
   "metadata": {},
   "outputs": [],
   "source": [
    "for b, fnames in progress_bar(zip(dl, fnames_bs), total=len(files)//bs):\n",
    "    with torch.no_grad():\n",
    "        y = model(b)\n",
    "    for torch_mask, fname in zip(y, fnames):\n",
    "        mask = postprocess(torch_mask)\n",
    "        mask.save(fname.my_suffix('_GT.png'))"
   ]
  },
  {
   "cell_type": "markdown",
   "id": "b1be0b45-5298-4cb3-b7c6-5c5c4fbf456d",
   "metadata": {},
   "source": [
    "## With a DataBlock\n",
    "We can do the same thing with a data block"
   ]
  },
  {
   "cell_type": "code",
   "execution_count": 49,
   "id": "d69b1417-6f05-4131-b0bd-93978661eb60",
   "metadata": {},
   "outputs": [],
   "source": [
    "block = DataBlock(blocks=ImageBlock, \n",
    "                  get_x=ColReader('image_path'),\n",
    "                  batch_tfms= [Normalize.from_stats(*WSISEG_STATS)],\n",
    "                  splitter=lambda o: (range_of(o), []),\n",
    "                 )"
   ]
  },
  {
   "cell_type": "code",
   "execution_count": 53,
   "id": "68bc6e90-de64-4863-8dac-f410dcb5123d",
   "metadata": {},
   "outputs": [],
   "source": [
    "dl = block.dataloaders(df, bs=64, suffle=False).train"
   ]
  },
  {
   "cell_type": "markdown",
   "id": "b4b141a9-11e4-4c15-9420-71c846bb62b5",
   "metadata": {},
   "source": [
    "the `DataBlock` API generates a `DataLoaders` object, that is just a wrapper around a train/valid pair of `DataLoaders`. As we passed a dummy split (no split), the `valid` dataloader is empty, and we will use only the train one. Also, the batch in this case is composed of a tuple `(x,y)` where `y` is empty, hence we need to do `x, = b` (or `b[0]`)"
   ]
  },
  {
   "cell_type": "code",
   "execution_count": 55,
   "id": "25dbaee3-39e1-4c66-a0b6-35328bac17de",
   "metadata": {},
   "outputs": [
    {
     "data": {
      "text/html": [
       "\n",
       "    <div>\n",
       "        <style>\n",
       "            /* Turns off some styling */\n",
       "            progress {\n",
       "                /* gets rid of default border in Firefox and Opera. */\n",
       "                border: none;\n",
       "                /* Needs to be in here for Safari polyfill so background images work as expected. */\n",
       "                background-size: auto;\n",
       "            }\n",
       "            .progress-bar-interrupted, .progress-bar-interrupted::-webkit-progress-bar {\n",
       "                background: #F44336;\n",
       "            }\n",
       "        </style>\n",
       "      <progress value='2773' class='' max='3235' style='width:300px; height:20px; vertical-align: middle;'></progress>\n",
       "      85.72% [2773/3235 06:11<01:01]\n",
       "    </div>\n",
       "    "
      ],
      "text/plain": [
       "<IPython.core.display.HTML object>"
      ]
     },
     "metadata": {},
     "output_type": "display_data"
    }
   ],
   "source": [
    "for b, fnames in progress_bar(zip(dl, fnames_bs), total=len(files)//bs):\n",
    "    with torch.no_grad():\n",
    "        x, = b\n",
    "        y = model(x)\n",
    "    for torch_mask, fname in zip(y, fnames):\n",
    "        mask = postprocess(torch_mask)\n",
    "        mask.save(fname.my_suffix('_GT.png'))"
   ]
  }
 ],
 "metadata": {
  "kernelspec": {
   "display_name": "Python 3",
   "language": "python",
   "name": "python3"
  },
  "language_info": {
   "codemirror_mode": {
    "name": "ipython",
    "version": 3
   },
   "file_extension": ".py",
   "mimetype": "text/x-python",
   "name": "python",
   "nbconvert_exporter": "python",
   "pygments_lexer": "ipython3",
   "version": "3.8.10"
  }
 },
 "nbformat": 4,
 "nbformat_minor": 5
}
